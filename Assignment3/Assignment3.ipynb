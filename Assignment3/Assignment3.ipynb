{
 "cells": [
  {
   "cell_type": "markdown",
   "id": "f9e88f83",
   "metadata": {},
   "source": [
    "## Assignment 3"
   ]
  },
  {
   "cell_type": "markdown",
   "id": "368e8251",
   "metadata": {},
   "source": [
    "### Part A3.1: Access PMU from python"
   ]
  },
  {
   "cell_type": "markdown",
   "id": "09942e09",
   "metadata": {},
   "source": [
    "* http://neocontra.blogspot.com/2013/05/user-mode-performance-counters-for.html\n",
    "* https://www.cprogramming.com/tutorial/shared-libraries-linux-gcc.html\n",
    "*https://stackoverflow.com/questions/3247373/how-to-measure-program-execution-time-in-arm-cortex-a8-processor/3250835#3250835"
   ]
  },
  {
   "cell_type": "code",
   "execution_count": 17,
   "id": "9422fa08",
   "metadata": {},
   "outputs": [],
   "source": [
    "import ctypes"
   ]
  },
  {
   "cell_type": "markdown",
   "id": "100debfb",
   "metadata": {},
   "source": [
    "Now we can import our shared library"
   ]
  },
  {
   "cell_type": "code",
   "execution_count": 5,
   "id": "07148c78",
   "metadata": {},
   "outputs": [],
   "source": [
    "_libInC = ctypes.CDLL('./libPMULib.so')"
   ]
  },
  {
   "cell_type": "code",
   "execution_count": 6,
   "id": "f39d8988",
   "metadata": {},
   "outputs": [
    {
     "name": "stdout",
     "output_type": "stream",
     "text": [
      "1\n"
     ]
    }
   ],
   "source": [
    "counter = _libInC.my_init_counters(1,0)\n",
    "print(counter)"
   ]
  },
  {
   "cell_type": "code",
   "execution_count": 15,
   "id": "f54ff85f",
   "metadata": {},
   "outputs": [],
   "source": [
    "a = _libInC.my_get_cyclecount()"
   ]
  },
  {
   "cell_type": "code",
   "execution_count": 16,
   "id": "b573c939",
   "metadata": {},
   "outputs": [
    {
     "name": "stdout",
     "output_type": "stream",
     "text": [
      "515475677\n"
     ]
    }
   ],
   "source": [
    "print(a)"
   ]
  },
  {
   "cell_type": "code",
   "execution_count": null,
   "id": "ad22fade",
   "metadata": {},
   "outputs": [],
   "source": []
  }
 ],
 "metadata": {
  "kernelspec": {
   "display_name": "Python 3",
   "language": "python",
   "name": "python3"
  },
  "language_info": {
   "codemirror_mode": {
    "name": "ipython",
    "version": 3
   },
   "file_extension": ".py",
   "mimetype": "text/x-python",
   "name": "python",
   "nbconvert_exporter": "python",
   "pygments_lexer": "ipython3",
   "version": "3.8.2"
  }
 },
 "nbformat": 4,
 "nbformat_minor": 5
}
