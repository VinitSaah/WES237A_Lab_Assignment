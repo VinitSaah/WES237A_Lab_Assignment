{
 "cells": [
  {
   "cell_type": "markdown",
   "id": "f9e88f83",
   "metadata": {},
   "source": [
    "## Assignment 3"
   ]
  },
  {
   "cell_type": "markdown",
   "id": "368e8251",
   "metadata": {},
   "source": [
    "### Part A3.1: Access PMU from python"
   ]
  },
  {
   "cell_type": "markdown",
   "id": "09942e09",
   "metadata": {},
   "source": [
    "* http://neocontra.blogspot.com/2013/05/user-mode-performance-counters-for.html\n",
    "* https://www.cprogramming.com/tutorial/shared-libraries-linux-gcc.html\n",
    "*https://stackoverflow.com/questions/3247373/how-to-measure-program-execution-time-in-arm-cortex-a8-processor/3250835#3250835"
   ]
  },
  {
   "cell_type": "code",
   "execution_count": 2,
   "id": "9422fa08",
   "metadata": {},
   "outputs": [],
   "source": [
    "import ctypes"
   ]
  },
  {
   "cell_type": "markdown",
   "id": "100debfb",
   "metadata": {},
   "source": [
    "Now we can import our shared library"
   ]
  },
  {
   "cell_type": "code",
   "execution_count": 3,
   "id": "07148c78",
   "metadata": {},
   "outputs": [],
   "source": [
    "_libInC = ctypes.CDLL('./libPMULib.so')"
   ]
  },
  {
   "cell_type": "code",
   "execution_count": null,
   "id": "f39d8988",
   "metadata": {},
   "outputs": [],
   "source": [
    "_libInC.init_counters(1,0)"
   ]
  },
  {
   "cell_type": "code",
   "execution_count": 1,
   "id": "f54ff85f",
   "metadata": {},
   "outputs": [
    {
     "ename": "NameError",
     "evalue": "name '_libInC' is not defined",
     "output_type": "error",
     "traceback": [
      "\u001b[0;31m---------------------------------------------------------------------------\u001b[0m",
      "\u001b[0;31mNameError\u001b[0m                                 Traceback (most recent call last)",
      "\u001b[0;32m<ipython-input-1-a71bf0c4384e>\u001b[0m in \u001b[0;36m<module>\u001b[0;34m\u001b[0m\n\u001b[0;32m----> 1\u001b[0;31m \u001b[0ma\u001b[0m \u001b[0;34m=\u001b[0m \u001b[0m_libInC\u001b[0m\u001b[0;34m.\u001b[0m\u001b[0mget_cyclecount\u001b[0m\u001b[0;34m(\u001b[0m\u001b[0;34m)\u001b[0m\u001b[0;34m\u001b[0m\u001b[0;34m\u001b[0m\u001b[0m\n\u001b[0m",
      "\u001b[0;31mNameError\u001b[0m: name '_libInC' is not defined"
     ]
    }
   ],
   "source": [
    "a = _libInC.get_cyclecount()"
   ]
  },
  {
   "cell_type": "code",
   "execution_count": null,
   "id": "b573c939",
   "metadata": {},
   "outputs": [],
   "source": []
  }
 ],
 "metadata": {
  "kernelspec": {
   "display_name": "Python 3",
   "language": "python",
   "name": "python3"
  },
  "language_info": {
   "codemirror_mode": {
    "name": "ipython",
    "version": 3
   },
   "file_extension": ".py",
   "mimetype": "text/x-python",
   "name": "python",
   "nbconvert_exporter": "python",
   "pygments_lexer": "ipython3",
   "version": "3.8.2"
  }
 },
 "nbformat": 4,
 "nbformat_minor": 5
}
