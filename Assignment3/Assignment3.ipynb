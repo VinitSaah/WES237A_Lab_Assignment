{
 "cells": [
  {
   "cell_type": "markdown",
   "id": "f9e88f83",
   "metadata": {},
   "source": [
    "## Assignment 3"
   ]
  },
  {
   "cell_type": "markdown",
   "id": "368e8251",
   "metadata": {},
   "source": [
    "### Part A3.1: Access PMU from python"
   ]
  },
  {
   "cell_type": "code",
   "execution_count": 3,
   "id": "9422fa08",
   "metadata": {},
   "outputs": [],
   "source": [
    "import ctypes"
   ]
  },
  {
   "cell_type": "markdown",
   "id": "100debfb",
   "metadata": {},
   "source": [
    "Now we can import our shared library"
   ]
  },
  {
   "cell_type": "code",
   "execution_count": 4,
   "id": "07148c78",
   "metadata": {},
   "outputs": [],
   "source": [
    "_libInC = ctypes.CDLL('./libPMULib.so')"
   ]
  },
  {
   "cell_type": "code",
   "execution_count": null,
   "id": "f39d8988",
   "metadata": {},
   "outputs": [],
   "source": [
    "_libInC.init_counters(0,0)"
   ]
  },
  {
   "cell_type": "code",
   "execution_count": null,
   "id": "f54ff85f",
   "metadata": {},
   "outputs": [],
   "source": [
    "a = _libInC.get_cyclecount()"
   ]
  },
  {
   "cell_type": "code",
   "execution_count": null,
   "id": "b573c939",
   "metadata": {},
   "outputs": [],
   "source": []
  }
 ],
 "metadata": {
  "kernelspec": {
   "display_name": "Python 3",
   "language": "python",
   "name": "python3"
  },
  "language_info": {
   "codemirror_mode": {
    "name": "ipython",
    "version": 3
   },
   "file_extension": ".py",
   "mimetype": "text/x-python",
   "name": "python",
   "nbconvert_exporter": "python",
   "pygments_lexer": "ipython3",
   "version": "3.8.2"
  }
 },
 "nbformat": 4,
 "nbformat_minor": 5
}
