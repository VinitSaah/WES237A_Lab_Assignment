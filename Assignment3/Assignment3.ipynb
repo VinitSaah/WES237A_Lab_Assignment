{
 "cells": [
  {
   "cell_type": "markdown",
   "id": "f9e88f83",
   "metadata": {},
   "source": [
    "## Assignment 3"
   ]
  },
  {
   "cell_type": "markdown",
   "id": "368e8251",
   "metadata": {},
   "source": [
    "### Part A3.1: Access PMU from python"
   ]
  },
  {
   "cell_type": "markdown",
   "id": "09942e09",
   "metadata": {},
   "source": [
    "* http://neocontra.blogspot.com/2013/05/user-mode-performance-counters-for.html\n",
    "* https://www.cprogramming.com/tutorial/shared-libraries-linux-gcc.html\n",
    "*https://stackoverflow.com/questions/3247373/how-to-measure-program-execution-time-in-arm-cortex-a8-processor/3250835#3250835"
   ]
  },
  {
   "cell_type": "code",
   "execution_count": 91,
   "id": "9422fa08",
   "metadata": {},
   "outputs": [],
   "source": [
    "import ctypes"
   ]
  },
  {
   "cell_type": "markdown",
   "id": "100debfb",
   "metadata": {},
   "source": [
    "Now we can import our shared library"
   ]
  },
  {
   "cell_type": "code",
   "execution_count": 92,
   "id": "07148c78",
   "metadata": {},
   "outputs": [],
   "source": [
    "_libInC = ctypes.CDLL('./libPMULib.so')"
   ]
  },
  {
   "cell_type": "code",
   "execution_count": 3,
   "id": "f39d8988",
   "metadata": {},
   "outputs": [
    {
     "name": "stdout",
     "output_type": "stream",
     "text": [
      "1\n"
     ]
    }
   ],
   "source": [
    "counter = _libInC.my_init_counters(1,0)\n",
    "print(counter)"
   ]
  },
  {
   "cell_type": "code",
   "execution_count": 14,
   "id": "f54ff85f",
   "metadata": {},
   "outputs": [
    {
     "name": "stdout",
     "output_type": "stream",
     "text": [
      "0\n"
     ]
    }
   ],
   "source": [
    "a = _libInC.my_get_cyclecount()\n",
    "print(a)"
   ]
  },
  {
   "cell_type": "markdown",
   "id": "93739a4b",
   "metadata": {},
   "source": [
    "### Part A3.2: Comparing and Gathering Data"
   ]
  },
  {
   "cell_type": "code",
   "execution_count": 101,
   "id": "157e0c28",
   "metadata": {},
   "outputs": [],
   "source": [
    "import multiprocessing\n",
    "import os\n",
    "import time"
   ]
  },
  {
   "cell_type": "code",
   "execution_count": 102,
   "id": "54af76ae",
   "metadata": {},
   "outputs": [],
   "source": [
    "# Program to calculate the Fibonacci sequence up to n-th term\n",
    "def recur_fibo(_id, n):\n",
    "   if n <= 1:\n",
    "       return n\n",
    "   else:\n",
    "       return(recur_fibo(_id, n-1) + recur_fibo(_id, n-2))\n",
    "    \n",
    "\n",
    "\n"
   ]
  },
  {
   "cell_type": "code",
   "execution_count": 104,
   "id": "ece42aa9",
   "metadata": {},
   "outputs": [
    {
     "name": "stdout",
     "output_type": "stream",
     "text": [
      "Enter How many terms of Fibonacci? 35\n",
      "Enter your value:0/1 for CPU selection1\n",
      "CPU ID Entered =  1\n",
      "Process with name, Process-42, is finished\n",
      "Timer module value =43.665892601013184 \n",
      "Cycle count value = 1.2010963\n"
     ]
    }
   ],
   "source": [
    "#initialize the counter\n",
    "nterms = int(input(\"Enter How many terms of Fibonacci? \"))\n",
    "# check if the number of terms is valid\n",
    "if nterms <= 0:\n",
    "    print(\"Please enter a positive integer\")\n",
    "\n",
    "val = int(input(\"Enter your value:0/1 for CPU selection\"))\n",
    "print(\"CPU ID Entered = \", val)\n",
    "\n",
    "if val == 0:\n",
    "    p1 = multiprocessing.Process(target=recur_fibo, args=(0,nterms)) # the first arg defines which CPU to run the 'target' on\n",
    "    os.system(\"taskset -c 0x0 -p {} \".format(p1.pid)) # taskset is an os command to pin the process to a specific CPU\n",
    "elif val == 1:\n",
    "    p1 = multiprocessing.Process(target=recur_fibo, args=(1,nterms)) # the first arg defines which CPU to run the 'target' on\n",
    "    os.system(\"taskset -c 0x1 -p {} \".format(p1.pid)) # taskset is an os command to pin the process to a specific CPU\n",
    "\n",
    "\n",
    "#init counters\n",
    "_libInC.my_init_counters(1, 0);\n",
    "\n",
    "#take python module time\n",
    "tic = time.time()\n",
    "\n",
    "#get cycle count\n",
    "cpu_time1 = _libInC.my_get_cyclecount()\n",
    "\n",
    "p1.start() # start the process\n",
    "\n",
    "p1Name = p1.name # get process1 name\n",
    "p1.join() # wait for process1 to finish\n",
    "print('Process with name, {}, is finished'.format(p1Name))\n",
    "\n",
    "cpu_time2 = _libInC.my_get_cyclecount()\n",
    "tac = time.time()\n",
    "\n",
    "time_cycleCount = ((cpu_time2-cpu_time1) / 650e6)\n",
    "\n",
    "print(\"Timer module value ={} \".format(tac-tic))\n",
    "print(\"Cycle count value = {}\".format(time_cycleCount))\n",
    "\n",
    "\n",
    "\n"
   ]
  },
  {
   "cell_type": "code",
   "execution_count": null,
   "id": "63a417ac",
   "metadata": {},
   "outputs": [],
   "source": []
  },
  {
   "cell_type": "code",
   "execution_count": null,
   "id": "41ec15d0",
   "metadata": {},
   "outputs": [],
   "source": []
  }
 ],
 "metadata": {
  "kernelspec": {
   "display_name": "Python 3",
   "language": "python",
   "name": "python3"
  },
  "language_info": {
   "codemirror_mode": {
    "name": "ipython",
    "version": 3
   },
   "file_extension": ".py",
   "mimetype": "text/x-python",
   "name": "python",
   "nbconvert_exporter": "python",
   "pygments_lexer": "ipython3",
   "version": "3.8.2"
  }
 },
 "nbformat": 4,
 "nbformat_minor": 5
}
