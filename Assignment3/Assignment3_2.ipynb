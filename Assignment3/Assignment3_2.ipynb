{
 "cells": [
  {
   "cell_type": "markdown",
   "id": "f9e88f83",
   "metadata": {},
   "source": [
    "## Assignment 3"
   ]
  },
  {
   "cell_type": "markdown",
   "id": "368e8251",
   "metadata": {},
   "source": [
    "### Part A3.1: Access PMU from python"
   ]
  },
  {
   "cell_type": "markdown",
   "id": "09942e09",
   "metadata": {},
   "source": [
    "* http://neocontra.blogspot.com/2013/05/user-mode-performance-counters-for.html\n",
    "* https://www.cprogramming.com/tutorial/shared-libraries-linux-gcc.html\n",
    "*https://stackoverflow.com/questions/3247373/how-to-measure-program-execution-time-in-arm-cortex-a8-processor/3250835#3250835"
   ]
  },
  {
   "cell_type": "code",
   "execution_count": 63,
   "id": "9422fa08",
   "metadata": {},
   "outputs": [],
   "source": [
    "import ctypes"
   ]
  },
  {
   "cell_type": "code",
   "execution_count": 65,
   "id": "467b4870",
   "metadata": {},
   "outputs": [],
   "source": [
    "SUCCESS = 0\n",
    "FAILURE = -1\n",
    "CPU_FHz = 650e6"
   ]
  },
  {
   "cell_type": "markdown",
   "id": "100debfb",
   "metadata": {},
   "source": [
    "Now we can import our shared library"
   ]
  },
  {
   "cell_type": "code",
   "execution_count": 66,
   "id": "07148c78",
   "metadata": {},
   "outputs": [],
   "source": [
    "_libInC = ctypes.CDLL('./libPMULib.so')"
   ]
  },
  {
   "cell_type": "code",
   "execution_count": 46,
   "id": "f39d8988",
   "metadata": {},
   "outputs": [
    {
     "name": "stdout",
     "output_type": "stream",
     "text": [
      "1\n"
     ]
    }
   ],
   "source": [
    "counter = _libInC.my_init_counters(1,0)\n",
    "print(counter)"
   ]
  },
  {
   "cell_type": "code",
   "execution_count": 47,
   "id": "f54ff85f",
   "metadata": {},
   "outputs": [
    {
     "name": "stdout",
     "output_type": "stream",
     "text": [
      "769503020\n"
     ]
    }
   ],
   "source": [
    "a = _libInC.my_get_cyclecount()\n",
    "print(a)"
   ]
  },
  {
   "cell_type": "markdown",
   "id": "716c6484",
   "metadata": {},
   "source": [
    "### Part A3.2: Comparing and Gathering Data"
   ]
  },
  {
   "cell_type": "code",
   "execution_count": 87,
   "id": "0329b7b8",
   "metadata": {},
   "outputs": [],
   "source": [
    "import multiprocessing\n",
    "import os\n",
    "import time"
   ]
  },
  {
   "cell_type": "code",
   "execution_count": 88,
   "id": "b93b4dc2",
   "metadata": {},
   "outputs": [],
   "source": [
    "# Program to calculate the Fibonacci sequence up to n-th term\n",
    "def recur_fibo(n):\n",
    "   if n <= 1:\n",
    "       return n\n",
    "   else:\n",
    "       return(recur_fibo(n-1) + recur_fibo(n-2))"
   ]
  },
  {
   "cell_type": "code",
   "execution_count": 131,
   "id": "7506e585",
   "metadata": {},
   "outputs": [],
   "source": [
    "def performance_metrics_calculator(_id, num_fib):\n",
    "    #Assign the process to specific CPU\n",
    "    os.system(\"taskset -pc {} {}\".format(_id,os.getpid()))\n",
    "    \n",
    "    #take python module time\n",
    "    tic = time.time()\n",
    "    \n",
    "    #get cycle count\n",
    "    cpu_time1 = 64* ctypes.c_uint32(_libInC.my_get_cyclecount()).value\n",
    "    print(\"Cycle count 1 = {}\".format(cpu_time1))\n",
    "\n",
    "    if cpu_time1 == 0:\n",
    "        print(\"1stcycle count is 0 invalid read\");\n",
    "    \n",
    "    # Run recur fib program\n",
    "    recur_fibo(num_fib)\n",
    "    \n",
    "    #get cycle count \n",
    "    cpu_time2 = 64* ctypes.c_uint32(_libInC.my_get_cyclecount()).value\n",
    "    print(\"Cycle count 2 = {}\".format(cpu_time2))\n",
    "    \n",
    "    if cpu_time2 == 0:\n",
    "        print(\"2nd cycle count is 0 invalid read\");\n",
    "\n",
    "    if (cpu_time2 - cpu_time1) < 0:\n",
    "        print(\"2nd cycle count is less than cpu_time1\");\n",
    "        print(\"Overflown counter value = {}\".format(cpu_time2))\n",
    "        cpu_time2 = 64*(2**32+cpu_time2)\n",
    "        print(\"New Cycle count 2 = {}\".format(cpu_time2))\n",
    "    \n",
    "    tac = time.time()\n",
    "\n",
    "    time_cycleCount = (abs(cpu_time2-cpu_time1) / CPU_FHz)\n",
    "\n",
    "    print(\"Timer module value ={} \".format(tac-tic))\n",
    "    print(\"Cycle count value = {}\".format(time_cycleCount))\n",
    "    \n",
    "    \n",
    "    "
   ]
  },
  {
   "cell_type": "code",
   "execution_count": 132,
   "id": "1df59d06",
   "metadata": {},
   "outputs": [],
   "source": [
    "def main():\n",
    "    nterms = int(input(\"Enter How many terms of Fibonacci? \"))\n",
    "    # check if the number of terms is valid\n",
    "    if nterms <= 0:\n",
    "        print(\"Please enter a positive integer\")\n",
    "        return FAILURE\n",
    "    \n",
    "    cpu_id = int(input(\"Enter CPU ID(0/1) for CPU selection\"))\n",
    "    print(\"CPU ID Entered = \", cpu_id)\n",
    "    # check if cpu id is valid\n",
    "    if cpu_id < 0 or cpu_id > 1:\n",
    "        print(\"unsupported CPU id Entered\")\n",
    "        return FAILURE\n",
    "    \n",
    "    # create a process\n",
    "    p1 = multiprocessing.Process(target=performance_metrics_calculator, args=(cpu_id,nterms)) # the first arg defines which CPU to run the 'target' on\n",
    "    # start the process\n",
    "    p1.start() \n",
    "    p1Name = p1.name # get process1 name\n",
    "    p1.join() # wait for process1 to finish\n",
    "    print('Process with name, {}, is finished'.format(p1Name))"
   ]
  },
  {
   "cell_type": "markdown",
   "id": "7e2406ad",
   "metadata": {},
   "source": [
    "### Main function to handle input and spawn separate process"
   ]
  },
  {
   "cell_type": "code",
   "execution_count": 134,
   "id": "3614fed4",
   "metadata": {},
   "outputs": [
    {
     "name": "stdout",
     "output_type": "stream",
     "text": [
      "Enter How many terms of Fibonacci? 35\n",
      "Enter CPU ID(0/1) for CPU selection0\n",
      "CPU ID Entered =  0\n",
      "Cycle count 1 = 79214848\n",
      "Cycle count 2 = 26850457088\n",
      "Timer module value =41.213409662246704 \n",
      "Cycle count value = 41.18652652307692\n",
      "Process with name, Process-50, is finished\n",
      "Program exited successfully\n"
     ]
    }
   ],
   "source": [
    "if __name__ == '__main__':\n",
    "    _libInC.my_init_counters(1, 1);\n",
    "    result = main()\n",
    "    \n",
    "    if result == FAILURE:\n",
    "        print(\"Program exited, exit code = FAILURE\")\n",
    "    else:\n",
    "        print(\"Program exited successfully\")"
   ]
  },
  {
   "cell_type": "code",
   "execution_count": null,
   "id": "9b5fb533",
   "metadata": {},
   "outputs": [],
   "source": []
  },
  {
   "cell_type": "code",
   "execution_count": null,
   "id": "8f80f27e",
   "metadata": {},
   "outputs": [],
   "source": []
  }
 ],
 "metadata": {
  "kernelspec": {
   "display_name": "Python 3",
   "language": "python",
   "name": "python3"
  },
  "language_info": {
   "codemirror_mode": {
    "name": "ipython",
    "version": 3
   },
   "file_extension": ".py",
   "mimetype": "text/x-python",
   "name": "python",
   "nbconvert_exporter": "python",
   "pygments_lexer": "ipython3",
   "version": "3.8.2"
  }
 },
 "nbformat": 4,
 "nbformat_minor": 5
}
