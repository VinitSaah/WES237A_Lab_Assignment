{
 "cells": [
  {
   "cell_type": "code",
   "execution_count": 29,
   "id": "68aa2deb",
   "metadata": {},
   "outputs": [],
   "source": [
    "import time\n",
    "from pynq.overlays.base import BaseOverlay\n",
    "base = BaseOverlay(\"base.bit\")\n",
    "from Adafruit_IO import Client, Data"
   ]
  },
  {
   "cell_type": "code",
   "execution_count": 30,
   "id": "5ef75df7",
   "metadata": {},
   "outputs": [
    {
     "name": "stdout",
     "output_type": "stream",
     "text": [
      "Feed(name='pynq_time', key='pynq-time', id=1820213, description='This is example feed to display pynq board timer module', unit_type=None, unit_symbol=None, history=True, visibility='public', license=None, status_notify=False, status_timeout=4320)\n"
     ]
    }
   ],
   "source": [
    "aio = Client('vsaah','aio_MtCJ00dWfcpa2EE7NeXWry4sNLwH')\n",
    "pynq_time = aio.feeds('pynq-time')\n",
    "print(pynq_time)"
   ]
  },
  {
   "cell_type": "code",
   "execution_count": 36,
   "id": "da20f413",
   "metadata": {},
   "outputs": [
    {
     "name": "stdout",
     "output_type": "stream",
     "text": [
      "Data(created_epoch=None, created_at=None, updated_at=None, value=1646025780.5999527, completed_at=None, feed_id=None, expiration=None, position=None, id=None, lat=None, lon=None, ele=None)\n",
      "CTRL-C!! Exiting..\n",
      "Data(created_epoch=None, created_at=None, updated_at=None, value=1646025781.0088787, completed_at=None, feed_id=None, expiration=None, position=None, id=None, lat=None, lon=None, ele=None)\n",
      "CTRL-C!! Exiting..\n",
      "Data(created_epoch=None, created_at=None, updated_at=None, value=1646025781.3967805, completed_at=None, feed_id=None, expiration=None, position=None, id=None, lat=None, lon=None, ele=None)\n",
      "CTRL-C!! Exiting..\n",
      "Data(created_epoch=None, created_at=None, updated_at=None, value=1646025781.7808342, completed_at=None, feed_id=None, expiration=None, position=None, id=None, lat=None, lon=None, ele=None)\n",
      "CTRL-C!! Exiting..\n",
      "Data(created_epoch=None, created_at=None, updated_at=None, value=1646025782.168809, completed_at=None, feed_id=None, expiration=None, position=None, id=None, lat=None, lon=None, ele=None)\n",
      "CTRL-C!! Exiting..\n",
      "Data(created_epoch=None, created_at=None, updated_at=None, value=1646025782.5863512, completed_at=None, feed_id=None, expiration=None, position=None, id=None, lat=None, lon=None, ele=None)\n",
      "CTRL-C!! Exiting..\n",
      "Data(created_epoch=None, created_at=None, updated_at=None, value=1646025782.9961276, completed_at=None, feed_id=None, expiration=None, position=None, id=None, lat=None, lon=None, ele=None)\n",
      "CTRL-C!! Exiting..\n",
      "Data(created_epoch=None, created_at=None, updated_at=None, value=1646025783.3906481, completed_at=None, feed_id=None, expiration=None, position=None, id=None, lat=None, lon=None, ele=None)\n",
      "CTRL-C!! Exiting..\n",
      "Data(created_epoch=None, created_at=None, updated_at=None, value=1646025783.7875373, completed_at=None, feed_id=None, expiration=None, position=None, id=None, lat=None, lon=None, ele=None)\n",
      "CTRL-C!! Exiting..\n",
      "Data(created_epoch=None, created_at=None, updated_at=None, value=1646025784.2192757, completed_at=None, feed_id=None, expiration=None, position=None, id=None, lat=None, lon=None, ele=None)\n",
      "CTRL-C!! Exiting..\n"
     ]
    }
   ],
   "source": [
    "data_count = 0\n",
    "while data_count < 10:\n",
    "    time_sec = Data(value = time.time())\n",
    "    print(time_sec)\n",
    "    aio.create_data('pynq-time', time_sec)\n",
    "    data_count +=1\n",
    "    print(\"CTRL-C!! Exiting..\")"
   ]
  },
  {
   "cell_type": "code",
   "execution_count": 8,
   "id": "c09760cf",
   "metadata": {},
   "outputs": [
    {
     "name": "stdout",
     "output_type": "stream",
     "text": [
      "Help on method send_data in module Adafruit_IO.client:\n",
      "\n",
      "send_data(feed, value, metadata=None, precision=None) method of Adafruit_IO.client.Client instance\n",
      "    Helper function to simplify adding a value to a feed.  Will append the\n",
      "    specified value to the feed identified by either name, key, or ID.\n",
      "    Returns a Data instance with details about the newly appended row of data.\n",
      "    Note that send_data now operates the same as append.\n",
      "    :param string feed: Name/Key/ID of Adafruit IO feed.\n",
      "    :param string value: Value to send.\n",
      "    :param dict metadata: Optional metadata associated with the value.\n",
      "    :param int precision: Optional amount of precision points to send.\n",
      "\n"
     ]
    }
   ],
   "source": [
    "\n"
   ]
  },
  {
   "cell_type": "code",
   "execution_count": null,
   "id": "e75cf8b1",
   "metadata": {},
   "outputs": [],
   "source": []
  }
 ],
 "metadata": {
  "kernelspec": {
   "display_name": "Python 3",
   "language": "python",
   "name": "python3"
  },
  "language_info": {
   "codemirror_mode": {
    "name": "ipython",
    "version": 3
   },
   "file_extension": ".py",
   "mimetype": "text/x-python",
   "name": "python",
   "nbconvert_exporter": "python",
   "pygments_lexer": "ipython3",
   "version": "3.8.2"
  }
 },
 "nbformat": 4,
 "nbformat_minor": 5
}
