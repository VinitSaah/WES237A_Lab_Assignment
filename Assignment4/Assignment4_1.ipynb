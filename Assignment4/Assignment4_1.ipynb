{
 "cells": [
  {
   "cell_type": "markdown",
   "id": "ed9946b4",
   "metadata": {},
   "source": [
    "# Assignment 4.1: Tilt Alarm System"
   ]
  },
  {
   "cell_type": "markdown",
   "id": "daa1c035",
   "metadata": {},
   "source": [
    "## Part A4.1"
   ]
  },
  {
   "cell_type": "markdown",
   "id": "95d12f64",
   "metadata": {},
   "source": [
    "### Buzzer sensor module used: KY006 (Passive) or KY012- (Active)"
   ]
  },
  {
   "cell_type": "markdown",
   "id": "561550da",
   "metadata": {},
   "source": [
    "#### Include placeholder"
   ]
  },
  {
   "cell_type": "code",
   "execution_count": 3,
   "id": "487a1126",
   "metadata": {},
   "outputs": [],
   "source": [
    "import time\n",
    "from pynq.lib import Pmod_IO\n",
    "from pynq.overlays.base import BaseOverlay\n",
    "base = BaseOverlay(\"base.bit\")\n",
    "import socket\n",
    "import multiprocessing"
   ]
  },
  {
   "cell_type": "code",
   "execution_count": 4,
   "id": "32dcc03b",
   "metadata": {},
   "outputs": [],
   "source": [
    "FAILURE = -1\n",
    "SUCCESS = 0\n",
    "SERVER_FREQ = 2500"
   ]
  },
  {
   "cell_type": "code",
   "execution_count": 5,
   "id": "ec05f8c4",
   "metadata": {},
   "outputs": [],
   "source": [
    "#creat Pmod_IO object to be used for server. Wired to + of buzzer sensor to PMODB\n",
    "gpio_pin_1 = Pmod_IO(base.PMODB,1,'out')\n",
    "#create Pmod_IO object to be used for client. Wired to + of buzzer sensor to PMODA\n",
    "gpio_pin_2 = Pmod_IO(base.PMODA,1,'out')"
   ]
  },
  {
   "cell_type": "code",
   "execution_count": 6,
   "id": "287517a1",
   "metadata": {},
   "outputs": [],
   "source": [
    "#store these pins in a dictionary to easily refrence based on server client\n",
    "pins = {\n",
    "    'server'   : gpio_pin_1, \n",
    "    'client'   : gpio_pin_2,\n",
    "}"
   ]
  },
  {
   "cell_type": "code",
   "execution_count": 7,
   "id": "51fd1463",
   "metadata": {},
   "outputs": [],
   "source": [
    "# definition to turn buzzer off\n",
    "def turn_buzzer_off(index):\n",
    "    pins[index].write(0)"
   ]
  },
  {
   "cell_type": "code",
   "execution_count": 8,
   "id": "915e6c24",
   "metadata": {},
   "outputs": [],
   "source": [
    "# def function to test buzzer\n",
    "def turn_buzzer_on(index):\n",
    "    pins[index].write(1)"
   ]
  },
  {
   "cell_type": "code",
   "execution_count": 9,
   "id": "eafa167d",
   "metadata": {},
   "outputs": [],
   "source": [
    "# def function to turn buzzer on for particular frequency\n",
    "def turn_alarm_on(freq, index, play_time):\n",
    "    if freq <= 0:\n",
    "        print(\"frequency should be > 0\")\n",
    "        return FAILURE\n",
    "    if index not in pins:\n",
    "        print(\"index passed does not exist {}\".format(index))\n",
    "        return FAILURE\n",
    "    period = round(1.0/freq,6)\n",
    "    cycles = round(play_time/period)\n",
    "    while cycles:\n",
    "        turn_buzzer_on(index)\n",
    "        time.sleep((1/(2*freq)))\n",
    "        turn_buzzer_off(index)\n",
    "        time.sleep((1/(2*freq)))\n",
    "        cycles -=1\n",
    "    \n",
    "    return SUCCESS"
   ]
  },
  {
   "cell_type": "code",
   "execution_count": 10,
   "id": "3b4e74a2",
   "metadata": {},
   "outputs": [],
   "source": [
    "freq = 25000 #Hz\n",
    "index = 'server'\n",
    "count = 0\n",
    "turn_alarm_on(freq, index, 0.5)\n",
    "count +=1"
   ]
  },
  {
   "cell_type": "code",
   "execution_count": 11,
   "id": "664da08d",
   "metadata": {},
   "outputs": [],
   "source": [
    "from enum import Enum\n",
    "class Button_State(Enum):\n",
    "    Connect = 0\n",
    "    Alarm = 1\n",
    "    Disconnect = 2"
   ]
  },
  {
   "cell_type": "code",
   "execution_count": 12,
   "id": "1c88be97",
   "metadata": {},
   "outputs": [],
   "source": [
    "address = ('localhost', 6000)     # family is deduced to be 'AF_INET'"
   ]
  },
  {
   "cell_type": "code",
   "execution_count": 13,
   "id": "7555326f",
   "metadata": {},
   "outputs": [],
   "source": [
    "def server():\n",
    "    sock = socket.socket(socket.AF_INET, socket.SOCK_STREAM)\n",
    "    # 1: Bind the socket to the pynq board <CLIENT-IP> at port <LISTENING-PORT>\n",
    "    # bind the socket to a public host, and a well-known port\n",
    "    sock.bind((\"127.0.0.1\", 33334))\n",
    "    \n",
    "    #Always be a listener\n",
    "    sock.listen(1)\n",
    "    cond = False;\n",
    "    while True:\n",
    "        # 2: Accept connections\n",
    "        clientsocket, addr = sock.accept()\n",
    "        print ('Got connection from', addr )\n",
    "        \n",
    "        # 3: Receive bytes from the connection \n",
    "        msg = clientsocket.recv(1024).decode()\n",
    "        print (\"Message received {}\\n\".format(msg))\n",
    "        \n",
    "        if msg == \"alarm\":\n",
    "            print (\"ServermMessage {}\\n\".format(msg))\n",
    "            cond = True\n",
    "         \n",
    "        if msg == \"disconnect\":\n",
    "            print (\"Server Message {}\\n\".format(msg))\n",
    "            cond = False\n",
    "           \n",
    "        if cond == True:\n",
    "            print (\"Server Buzzer On\\n\")\n",
    "            turn_alarm_on(SERVER_FREQ, 'server', 0.3)"
   ]
  },
  {
   "cell_type": "code",
   "execution_count": 14,
   "id": "08820eed",
   "metadata": {},
   "outputs": [],
   "source": [
    "def client(btns):\n",
    "    sock = socket.socket(socket.AF_INET, socket.SOCK_STREAM)\n",
    "    sock.connect(('127.0.0.1', 33334))\n",
    "    Button_cur_State = Button_State.Connect\n",
    "    \n",
    "    cond = True\n",
    "    \n",
    "    while cond:\n",
    "        #time.sleep(0.01)\n",
    "        if btns.read() == 2:\n",
    "            if Button_cur_State != Button_State.Alarm:\n",
    "                Button_cur_State = Button_State.Alarm\n",
    "                print(\"Client: alarm Button state = {}\\n\".format(Button_cur_State))\n",
    "                sock.send(\"alarm\".encode())\n",
    "        if btns.read() == 4:\n",
    "            if Button_cur_State != Button_State.Disconnect:\n",
    "                print(\"Client: disconnect\")\n",
    "                Button_cur_State = Button_State.Disconnect\n",
    "                print(\"Client: Disconnect Button state = {}\\n\".format(Button_cur_State))\n",
    "                sock.send(\"disconnect\".encode())\n",
    "                cond = False\n",
    "    sock.close()"
   ]
  },
  {
   "cell_type": "code",
   "execution_count": 15,
   "id": "e84ee02d",
   "metadata": {},
   "outputs": [],
   "source": [
    "procs = [] # a future list of all our processes\n"
   ]
  },
  {
   "cell_type": "code",
   "execution_count": 16,
   "id": "e6c3576a",
   "metadata": {},
   "outputs": [],
   "source": [
    "import threading\n",
    "import os\n",
    "def main():\n",
    "    btns = base.btns_gpio\n",
    "    \n",
    "    #create a asyncio loop event     \n",
    "    # Launch process1 on CPU0\n",
    "    p1_start = time.time()\n",
    "    p1 = multiprocessing.Process(target=server, args=()) \n",
    "    os.system(\"taskset -p -c {} {}\".format(0, p1.pid)) \n",
    "    p1.start() # start the process\n",
    "    procs.append(p1)\n",
    "\n",
    "    # Launch process2 on CPU1\n",
    "    cond = True\n",
    "    while cond:\n",
    "        time.sleep(0.01)\n",
    "        if btns.read() == 1:\n",
    "            cond = False\n",
    "            print(\"Creating client\")\n",
    "            p2_start = time.time()\n",
    "            p2 = multiprocessing.Process(target=client, args=(btns,)) \n",
    "            os.system(\"taskset -p -c {} {}\".format(1, p2.pid))\n",
    "            p2.start() # start the process\n",
    "            procs.append(p2)\n",
    "    \n",
    "    p1Name = p1.name # get process1 name\n",
    "    p2Name = p2.name # get process2 name\n",
    "    \n",
    "    p2.join() # wait for process2 to finish\n",
    "    print('Process 2 with name, {}, is finished'.format(p2Name))\n",
    "    \n",
    "    # Here we wait for process1 to finish then wait for process2 to finish\n",
    "    p1.join() # wait for process1 to finish\n",
    "    print('Process 1 with name, {}, is finished'.format(p1Name))"
   ]
  },
  {
   "cell_type": "code",
   "execution_count": null,
   "id": "d11994ed",
   "metadata": {},
   "outputs": [
    {
     "name": "stdout",
     "output_type": "stream",
     "text": [
      "Creating client\n",
      "Got connection from ('127.0.0.1', 58372)\n",
      "Client: alarm Button state = Button_State.Alarm\n",
      "\n",
      "Message received alarm\n",
      "\n",
      "ServermMessage alarm\n",
      "\n",
      "Server Buzzer On\n",
      "\n",
      "Client: disconnect\n",
      "Client: Disconnect Button state = Button_State.Disconnect\n",
      "\n",
      "Process 2 with name, Process-2, is finished\n"
     ]
    }
   ],
   "source": [
    "#if __name__ == '__main__':\n",
    "main()"
   ]
  },
  {
   "cell_type": "code",
   "execution_count": null,
   "id": "4bb868f4",
   "metadata": {},
   "outputs": [],
   "source": []
  }
 ],
 "metadata": {
  "kernelspec": {
   "display_name": "Python 3",
   "language": "python",
   "name": "python3"
  },
  "language_info": {
   "codemirror_mode": {
    "name": "ipython",
    "version": 3
   },
   "file_extension": ".py",
   "mimetype": "text/x-python",
   "name": "python",
   "nbconvert_exporter": "python",
   "pygments_lexer": "ipython3",
   "version": "3.8.2"
  }
 },
 "nbformat": 4,
 "nbformat_minor": 5
}
