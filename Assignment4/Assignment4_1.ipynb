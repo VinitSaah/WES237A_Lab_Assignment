{
 "cells": [
  {
   "cell_type": "markdown",
   "id": "ed9946b4",
   "metadata": {},
   "source": [
    "# Assignment 4.1: Tilt Alarm System"
   ]
  },
  {
   "cell_type": "markdown",
   "id": "daa1c035",
   "metadata": {},
   "source": [
    "## Part A4.1"
   ]
  },
  {
   "cell_type": "markdown",
   "id": "95d12f64",
   "metadata": {},
   "source": [
    "### Buzzer sensor module used: KY006 (Passive) or KY012- (Active)"
   ]
  },
  {
   "cell_type": "markdown",
   "id": "561550da",
   "metadata": {},
   "source": [
    "#### Include placeholder"
   ]
  },
  {
   "cell_type": "code",
   "execution_count": 4,
   "id": "487a1126",
   "metadata": {},
   "outputs": [],
   "source": [
    "import time\n",
    "from pynq.lib import Pmod_IO\n",
    "from pynq.overlays.base import BaseOverlay\n",
    "base = BaseOverlay(\"base.bit\")\n",
    "import socket\n",
    "import multiprocessing"
   ]
  },
  {
   "cell_type": "code",
   "execution_count": 5,
   "id": "32dcc03b",
   "metadata": {},
   "outputs": [],
   "source": [
    "FAILURE = -1\n",
    "SUCCESS = 0\n",
    "SERVER_FREQ = 2500"
   ]
  },
  {
   "cell_type": "code",
   "execution_count": 6,
   "id": "ec05f8c4",
   "metadata": {},
   "outputs": [],
   "source": [
    "#creat Pmod_IO object to be used for server. Wired to + of buzzer sensor to PMODB\n",
    "gpio_pin_1 = Pmod_IO(base.PMODB,1,'out')\n",
    "#create Pmod_IO object to be used for client. Wired to + of buzzer sensor to PMODA\n",
    "gpio_pin_2 = Pmod_IO(base.PMODA,1,'out')"
   ]
  },
  {
   "cell_type": "code",
   "execution_count": 7,
   "id": "287517a1",
   "metadata": {},
   "outputs": [],
   "source": [
    "#store these pins in a dictionary to easily refrence based on server client\n",
    "pins = {\n",
    "    'server'   : gpio_pin_1, \n",
    "    'client'   : gpio_pin_2,\n",
    "}"
   ]
  },
  {
   "cell_type": "code",
   "execution_count": 8,
   "id": "51fd1463",
   "metadata": {},
   "outputs": [],
   "source": [
    "# definition to turn buzzer off\n",
    "def turn_buzzer_off(index):\n",
    "    pins[index].write(0)"
   ]
  },
  {
   "cell_type": "code",
   "execution_count": 9,
   "id": "915e6c24",
   "metadata": {},
   "outputs": [],
   "source": [
    "# def function to test buzzer\n",
    "def turn_buzzer_on(index):\n",
    "    pins[index].write(1)"
   ]
  },
  {
   "cell_type": "code",
   "execution_count": 10,
   "id": "eafa167d",
   "metadata": {},
   "outputs": [],
   "source": [
    "# def function to turn buzzer on for particular frequency\n",
    "def turn_alarm_on(freq, index):\n",
    "    if freq < 0:\n",
    "        print(\"frequency should be > 0\")\n",
    "        return FAILURE\n",
    "    if index not in pins:\n",
    "        print(\"index passed does not exist {}\".format(index))\n",
    "        return FAILURE\n",
    "\n",
    "    turn_buzzer_on(index)\n",
    "    time.sleep((1/(2*freq)))\n",
    "    turn_buzzer_off(index)\n",
    "    time.sleep((1/(2*freq)))\n",
    "    \n",
    "    return SUCCESS"
   ]
  },
  {
   "cell_type": "code",
   "execution_count": 11,
   "id": "3b4e74a2",
   "metadata": {},
   "outputs": [],
   "source": [
    "freq = 15000 #Hz\n",
    "index = 'server'\n",
    "count = 0\n",
    "while count < 2000: \n",
    "    turn_alarm_on(freq, index)\n",
    "    count +=1"
   ]
  },
  {
   "cell_type": "code",
   "execution_count": 12,
   "id": "664da08d",
   "metadata": {},
   "outputs": [],
   "source": [
    "from enum import Enum\n",
    "class Button_State(Enum):\n",
    "    Connect = 0\n",
    "    Alarm = 1\n",
    "    Disconnect = 2\n",
    "\n",
    "Button_cur_State = Button_State.Connect"
   ]
  },
  {
   "cell_type": "code",
   "execution_count": 13,
   "id": "1c88be97",
   "metadata": {},
   "outputs": [],
   "source": [
    "address = ('localhost', 6000)     # family is deduced to be 'AF_INET'"
   ]
  },
  {
   "cell_type": "code",
   "execution_count": 14,
   "id": "7555326f",
   "metadata": {},
   "outputs": [],
   "source": [
    "def server(_lock):\n",
    "    global Button_cur_State\n",
    "    sock = socket.socket(socket.AF_INET, socket.SOCK_STREAM)\n",
    "    # 1: Bind the socket to the pynq board <CLIENT-IP> at port <LISTENING-PORT>\n",
    "    # bind the socket to a public host, and a well-known port\n",
    "    sock.bind((\"127.0.0.1\", 33334))\n",
    "    \n",
    "    #Always be a listener\n",
    "    sock.listen(1)\n",
    "    \n",
    "    while True:\n",
    "        # 2: Accept connections\n",
    "        clientsocket, addr = sock.accept()\n",
    "        print ('Got connection from', addr )\n",
    "        \n",
    "        # 3: Receive bytes from the connection \n",
    "        msg = clientsocket.recv(1024).decode()\n",
    "        print (\"Message received {}\".format(msg.decode()))\n",
    "        \n",
    "        if msg == 'sound_alarm':\n",
    "            #use lock\n",
    "            _lock.acquire(True)\n",
    "            sound_alarm = Button_cur_State\n",
    "            _lock.release()\n",
    "            \n",
    "        while sound_alarm == Button_State.Alarm:\n",
    "            turn_alarm_on(SERVER_FREQ, 'server')\n",
    "            _lock.acquire(True)\n",
    "            sound_alarm = Button_cur_State\n",
    "            _lock.release()\n"
   ]
  },
  {
   "cell_type": "code",
   "execution_count": 15,
   "id": "08820eed",
   "metadata": {},
   "outputs": [],
   "source": [
    "def client(_lock):\n",
    "    global Button_cur_State\n",
    "    sock = socket.socket(socket.AF_INET, socket.SOCK_STREAM)\n",
    "    sock.connect(('127.0.0.1', 33334))\n",
    "    \n",
    "    cond = True\n",
    "    \n",
    "    while cond:\n",
    "        _lock.acquire(True)\n",
    "        Button_State = Button_cur_State\n",
    "        _lock.release()\n",
    "        if Button_State == Button_State.Alarm:\n",
    "            sock.send('sound_alarm'.encode())\n",
    "        elif Button_State == Button_State.Disconnect:\n",
    "            cond = False\n",
    "            sock.close()"
   ]
  },
  {
   "cell_type": "code",
   "execution_count": 17,
   "id": "c6205126",
   "metadata": {},
   "outputs": [],
   "source": [
    "import asyncio\n",
    "btn_cond = True\n",
    "\n",
    "async def get_btns(_loop,btns):\n",
    "    global btn_cond, Button_cur_State\n",
    "    while btn_cond:\n",
    "        await asyncio.sleep(0.01)\n",
    "        btn = btns.read()\n",
    "        if btn == 0x01:\n",
    "            Button_cur_State = Button_State.Connect\n",
    "            print(\"Connect button pressed\")\n",
    "        elif btn == 0x02:\n",
    "            Button_cur_State = Button_State.Alarm\n",
    "            print(\"Alarm button pressed\")\n",
    "        elif btn == 0x04:\n",
    "            Button_cur_State = Button_State.Disconnect\n",
    "            print(\"Disconnect button pressed\")\n",
    "            btn_cond = False\n",
    "            _loop.stop()\n",
    "        #else:\n",
    "            #print(\"Invalid button pressed\")\n",
    "            \n",
    "#loop = asyncio.new_event_loop()\n",
    "#loop.create_task(flash_leds())\n",
    "#loop.create_task(get_btns(loop))\n",
    "#loop.run_forever()\n",
    "#loop.close()        "
   ]
  },
  {
   "cell_type": "code",
   "execution_count": 18,
   "id": "e84ee02d",
   "metadata": {},
   "outputs": [],
   "source": [
    "procs = [] # a future list of all our processes\n"
   ]
  },
  {
   "cell_type": "code",
   "execution_count": 19,
   "id": "e6c3576a",
   "metadata": {},
   "outputs": [],
   "source": [
    "import threading\n",
    "import os\n",
    "def main():\n",
    "    \n",
    "    btns = base.btns_gpio\n",
    "    lock_bp = multiprocessing.Lock()\n",
    "    #create a asyncio loop event \n",
    "    loop = asyncio.new_event_loop()\n",
    "    loop.create_task(get_btns(loop,btns))\n",
    "    \n",
    "    # Launch process1 on CPU0\n",
    "    p1_start = time.time()\n",
    "\n",
    "    p1 = multiprocessing.Process(target=server, args=(lock_bp,)) \n",
    "    os.system(\"taskset -p -c {} {}\".format(0, p1.pid)) \n",
    "    p1.start() # start the process\n",
    "    procs.append(p1)\n",
    "\n",
    "    # Launch process2 on CPU1\n",
    "    p2_start = time.time()\n",
    "    p2 = multiprocessing.Process(target=client, args=(lock_bp,)) \n",
    "    os.system(\"taskset -p -c {} {}\".format(1, p2.pid))\n",
    "    p2.start() # start the process\n",
    "    procs.append(p2)\n",
    "    \n",
    "    p1Name = p1.name # get process1 name\n",
    "    p2Name = p2.name # get process2 name\n",
    "    \n",
    "    loop.run_forever()\n",
    "    loop.close()\n",
    "    \n",
    "    # Here we wait for process1 to finish then wait for process2 to finish\n",
    "    p1.join() # wait for process1 to finish\n",
    "    print('Process 1 with name, {}, is finished'.format(p1Name))\n",
    "\n",
    "    p2.join() # wait for process2 to finish\n",
    "    print('Process 2 with name, {}, is finished'.format(p2Name))\n",
    "    "
   ]
  },
  {
   "cell_type": "code",
   "execution_count": null,
   "id": "d11994ed",
   "metadata": {},
   "outputs": [
    {
     "name": "stdout",
     "output_type": "stream",
     "text": [
      "Got connection from ('127.0.0.1', 46874)\n",
      "Alarm button pressed\n",
      "Alarm button pressed\n",
      "Alarm button pressed\n",
      "Alarm button pressed\n",
      "Alarm button pressed\n",
      "Alarm button pressed\n",
      "Alarm button pressed\n",
      "Alarm button pressed\n",
      "Alarm button pressed\n",
      "Alarm button pressed\n",
      "Alarm button pressed\n",
      "Alarm button pressed\n",
      "Alarm button pressed\n",
      "Alarm button pressed\n",
      "Alarm button pressed\n",
      "Alarm button pressed\n",
      "Alarm button pressed\n"
     ]
    }
   ],
   "source": [
    "if __name__ == '__main__':\n",
    "    main()"
   ]
  },
  {
   "cell_type": "code",
   "execution_count": null,
   "id": "4bb868f4",
   "metadata": {},
   "outputs": [],
   "source": []
  }
 ],
 "metadata": {
  "kernelspec": {
   "display_name": "Python 3",
   "language": "python",
   "name": "python3"
  },
  "language_info": {
   "codemirror_mode": {
    "name": "ipython",
    "version": 3
   },
   "file_extension": ".py",
   "mimetype": "text/x-python",
   "name": "python",
   "nbconvert_exporter": "python",
   "pygments_lexer": "ipython3",
   "version": "3.8.2"
  }
 },
 "nbformat": 4,
 "nbformat_minor": 5
}
