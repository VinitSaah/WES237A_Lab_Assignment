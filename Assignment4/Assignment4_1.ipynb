{
 "cells": [
  {
   "cell_type": "markdown",
   "id": "ed9946b4",
   "metadata": {},
   "source": [
    "# Assignment 4.1: Tilt Alarm System"
   ]
  },
  {
   "cell_type": "markdown",
   "id": "daa1c035",
   "metadata": {},
   "source": [
    "## Part A4.1"
   ]
  },
  {
   "cell_type": "markdown",
   "id": "95d12f64",
   "metadata": {},
   "source": [
    "### Buzzer sensor module used: KY006 (Passive) or KY012- (Active)"
   ]
  },
  {
   "cell_type": "markdown",
   "id": "561550da",
   "metadata": {},
   "source": [
    "#### Include placeholder"
   ]
  },
  {
   "cell_type": "code",
   "execution_count": 60,
   "id": "487a1126",
   "metadata": {},
   "outputs": [],
   "source": [
    "import time\n",
    "from pynq.lib import Pmod_IO\n",
    "from pynq.overlays.base import BaseOverlay\n",
    "base = BaseOverlay(\"base.bit\")\n",
    "FAILURE = -1\n",
    "SUCCESS = 0"
   ]
  },
  {
   "cell_type": "code",
   "execution_count": 61,
   "id": "ec05f8c4",
   "metadata": {},
   "outputs": [],
   "source": [
    "#creat Pmod_IO object to be used for server. Wired to + of buzzer sensor to PMODB\n",
    "gpio_pin_1 = Pmod_IO(base.PMODB,1,'out')\n",
    "#create Pmod_IO object to be used for client. Wired to + of buzzer sensor to PMODA\n",
    "gpio_pin_2 = Pmod_IO(base.PMODA,1,'out')"
   ]
  },
  {
   "cell_type": "code",
   "execution_count": 62,
   "id": "287517a1",
   "metadata": {},
   "outputs": [],
   "source": [
    "#store these pins in a dictionary to easily refrence based on server client\n",
    "pins = {\n",
    "    'server'   : gpio_pin_1, \n",
    "    'client'   : gpio_pin_2,\n",
    "} "
   ]
  },
  {
   "cell_type": "code",
   "execution_count": 66,
   "id": "51fd1463",
   "metadata": {},
   "outputs": [],
   "source": [
    "# definition to turn buzzer off\n",
    "def turn_buzzer_off(index):\n",
    "    pins[index].write(0)"
   ]
  },
  {
   "cell_type": "code",
   "execution_count": 67,
   "id": "915e6c24",
   "metadata": {},
   "outputs": [],
   "source": [
    "# def function to test buzzer\n",
    "def turn_buzzer_on(index):\n",
    "    pins[index].write(1)"
   ]
  },
  {
   "cell_type": "code",
   "execution_count": 68,
   "id": "eafa167d",
   "metadata": {},
   "outputs": [],
   "source": [
    "# def function to turn buzzer on for particular frequency\n",
    "def turn_alarm_on(freq, index):\n",
    "    if freq < 0:\n",
    "        print(\"frequency should be > 0\")\n",
    "        return FAILURE\n",
    "    if index in pins:\n",
    "        print(\"index passed exist {}\".format(index))\n",
    "    else:\n",
    "        print(\"index passed does not exist{}\".format(index))\n",
    "        return FAILURE\n",
    "    cond = 0\n",
    "    while cond < 1000:\n",
    "        turn_buzzer_on(index)\n",
    "        time.sleep((1/(2*freq)))\n",
    "        turn_buzzer_off(index)\n",
    "        time.sleep((1/(2*freq)))\n",
    "        cond +=1\n",
    "    return SUCCESS"
   ]
  },
  {
   "cell_type": "code",
   "execution_count": 69,
   "id": "3b4e74a2",
   "metadata": {},
   "outputs": [
    {
     "name": "stdout",
     "output_type": "stream",
     "text": [
      "index passed exist client\n"
     ]
    },
    {
     "data": {
      "text/plain": [
       "0"
      ]
     },
     "execution_count": 69,
     "metadata": {},
     "output_type": "execute_result"
    }
   ],
   "source": [
    "freq = 2500 #Hz\n",
    "index = 'client'\n",
    "turn_alarm_on(freq, index)"
   ]
  },
  {
   "cell_type": "code",
   "execution_count": null,
   "id": "7555326f",
   "metadata": {},
   "outputs": [],
   "source": []
  },
  {
   "cell_type": "code",
   "execution_count": null,
   "id": "08820eed",
   "metadata": {},
   "outputs": [],
   "source": []
  }
 ],
 "metadata": {
  "kernelspec": {
   "display_name": "Python 3",
   "language": "python",
   "name": "python3"
  },
  "language_info": {
   "codemirror_mode": {
    "name": "ipython",
    "version": 3
   },
   "file_extension": ".py",
   "mimetype": "text/x-python",
   "name": "python",
   "nbconvert_exporter": "python",
   "pygments_lexer": "ipython3",
   "version": "3.8.2"
  }
 },
 "nbformat": 4,
 "nbformat_minor": 5
}
