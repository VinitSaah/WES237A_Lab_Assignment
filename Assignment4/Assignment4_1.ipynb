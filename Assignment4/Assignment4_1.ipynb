{
 "cells": [
  {
   "cell_type": "markdown",
   "id": "ed9946b4",
   "metadata": {},
   "source": [
    "# Assignment 4.1: Tilt Alarm System"
   ]
  },
  {
   "cell_type": "markdown",
   "id": "daa1c035",
   "metadata": {},
   "source": [
    "## Part A4.1"
   ]
  },
  {
   "cell_type": "markdown",
   "id": "95d12f64",
   "metadata": {},
   "source": [
    "### Buzzer sensor module used: KY006 (Passive) or KY012- (Active)"
   ]
  },
  {
   "cell_type": "markdown",
   "id": "561550da",
   "metadata": {},
   "source": [
    "#### Include placeholder"
   ]
  },
  {
   "cell_type": "code",
   "execution_count": 1,
   "id": "487a1126",
   "metadata": {},
   "outputs": [
    {
     "data": {
      "application/javascript": [
       "\n",
       "try {\n",
       "require(['notebook/js/codecell'], function(codecell) {\n",
       "  codecell.CodeCell.options_default.highlight_modes[\n",
       "      'magic_text/x-csrc'] = {'reg':[/^%%microblaze/]};\n",
       "  Jupyter.notebook.events.one('kernel_ready.Kernel', function(){\n",
       "      Jupyter.notebook.get_cells().map(function(cell){\n",
       "          if (cell.cell_type == 'code'){ cell.auto_highlight(); } }) ;\n",
       "  });\n",
       "});\n",
       "} catch (e) {};\n"
      ]
     },
     "metadata": {},
     "output_type": "display_data"
    },
    {
     "data": {
      "application/javascript": [
       "\n",
       "try {\n",
       "require(['notebook/js/codecell'], function(codecell) {\n",
       "  codecell.CodeCell.options_default.highlight_modes[\n",
       "      'magic_text/x-csrc'] = {'reg':[/^%%pybind11/]};\n",
       "  Jupyter.notebook.events.one('kernel_ready.Kernel', function(){\n",
       "      Jupyter.notebook.get_cells().map(function(cell){\n",
       "          if (cell.cell_type == 'code'){ cell.auto_highlight(); } }) ;\n",
       "  });\n",
       "});\n",
       "} catch (e) {};\n"
      ]
     },
     "metadata": {},
     "output_type": "display_data"
    }
   ],
   "source": [
    "import time\n",
    "from pynq.lib import Pmod_IO\n",
    "from pynq.overlays.base import BaseOverlay\n",
    "base = BaseOverlay(\"base.bit\")\n",
    "import socket\n",
    "import multiprocessing"
   ]
  },
  {
   "cell_type": "code",
   "execution_count": 2,
   "id": "32dcc03b",
   "metadata": {},
   "outputs": [],
   "source": [
    "FAILURE = -1\n",
    "SUCCESS = 0\n",
    "SERVER_FREQ = 2500"
   ]
  },
  {
   "cell_type": "code",
   "execution_count": 3,
   "id": "ec05f8c4",
   "metadata": {},
   "outputs": [],
   "source": [
    "#creat Pmod_IO object to be used for server. Wired to + of buzzer sensor to PMODB\n",
    "gpio_pin_1 = Pmod_IO(base.PMODB,1,'out')\n",
    "#create Pmod_IO object to be used for client. Wired to + of buzzer sensor to PMODA\n",
    "gpio_pin_2 = Pmod_IO(base.PMODA,1,'out')"
   ]
  },
  {
   "cell_type": "code",
   "execution_count": 4,
   "id": "287517a1",
   "metadata": {},
   "outputs": [],
   "source": [
    "#store these pins in a dictionary to easily refrence based on server client\n",
    "pins = {\n",
    "    'server'   : gpio_pin_1, \n",
    "    'client'   : gpio_pin_2,\n",
    "}"
   ]
  },
  {
   "cell_type": "code",
   "execution_count": 5,
   "id": "51fd1463",
   "metadata": {},
   "outputs": [],
   "source": [
    "# definition to turn buzzer off\n",
    "def turn_buzzer_off(index):\n",
    "    pins[index].write(0)"
   ]
  },
  {
   "cell_type": "code",
   "execution_count": 6,
   "id": "915e6c24",
   "metadata": {},
   "outputs": [],
   "source": [
    "# def function to test buzzer\n",
    "def turn_buzzer_on(index):\n",
    "    pins[index].write(1)"
   ]
  },
  {
   "cell_type": "code",
   "execution_count": 7,
   "id": "eafa167d",
   "metadata": {},
   "outputs": [],
   "source": [
    "# def function to turn buzzer on for particular frequency\n",
    "def turn_alarm_on(freq, index):\n",
    "    if freq < 0:\n",
    "        print(\"frequency should be > 0\")\n",
    "        return FAILURE\n",
    "    if index not in pins:\n",
    "        print(\"index passed does not exist {}\".format(index))\n",
    "        return FAILURE\n",
    "\n",
    "    turn_buzzer_on(index)\n",
    "    time.sleep((1/(2*freq)))\n",
    "    turn_buzzer_off(index)\n",
    "    time.sleep((1/(2*freq)))\n",
    "    \n",
    "    return SUCCESS"
   ]
  },
  {
   "cell_type": "code",
   "execution_count": 8,
   "id": "3b4e74a2",
   "metadata": {},
   "outputs": [],
   "source": [
    "freq = 15000 #Hz\n",
    "index = 'server'\n",
    "count = 0\n",
    "while count < 2000: \n",
    "    turn_alarm_on(freq, index)\n",
    "    count +=1"
   ]
  },
  {
   "cell_type": "code",
   "execution_count": 9,
   "id": "664da08d",
   "metadata": {},
   "outputs": [],
   "source": [
    "from enum import Enum\n",
    "class Button_State(Enum):\n",
    "    Connect = 0\n",
    "    Alarm = 1\n",
    "    Disconnect = 2\n",
    "\n",
    "Button_cur_State = Button_State.Connect"
   ]
  },
  {
   "cell_type": "code",
   "execution_count": 10,
   "id": "1c88be97",
   "metadata": {},
   "outputs": [],
   "source": [
    "address = ('localhost', 6000)     # family is deduced to be 'AF_INET'"
   ]
  },
  {
   "cell_type": "code",
   "execution_count": 11,
   "id": "7555326f",
   "metadata": {},
   "outputs": [],
   "source": [
    "def server(_lock):\n",
    "    sock = socket.socket(socket.AF_INET, socket.SOCK_STREAM)\n",
    "    # 1: Bind the socket to the pynq board <CLIENT-IP> at port <LISTENING-PORT>\n",
    "    # bind the socket to a public host, and a well-known port\n",
    "    sock.bind((\"127.0.0.1\", 33334))\n",
    "    \n",
    "    #Always be a listener\n",
    "    sock.listen(1)\n",
    "    \n",
    "    while True:\n",
    "        # 2: Accept connections\n",
    "        clientsocket, addr = sock.accept()\n",
    "        print ('Got connection from', addr )\n",
    "        \n",
    "        # 3: Receive bytes from the connection \n",
    "        msg = clientsocket.recv(1024).decode()\n",
    "        print (\"Message received {}\".format(msg.decode()))\n",
    "        \n",
    "        if msg == 'sound_alarm':\n",
    "            #use lock\n",
    "            _lock.acquire(True)\n",
    "            sound_alarm = Button_cur_State\n",
    "            _lock.release()\n",
    "            \n",
    "        while sound_alarm == Button_State.Alarm:\n",
    "            turn_alarm_on(SERVER_FREQ, 'server')\n",
    "            _lock.acquire(True)\n",
    "            sound_alarm = Button_cur_State\n",
    "            _lock.release()\n"
   ]
  },
  {
   "cell_type": "code",
   "execution_count": 12,
   "id": "08820eed",
   "metadata": {},
   "outputs": [],
   "source": [
    "def client(_lock):\n",
    "    sock = socket.socket(socket.AF_INET, socket.SOCK_STREAM)\n",
    "    sock.connect(('127.0.0.1', 33334))\n",
    "    \n",
    "    cond = True\n",
    "    \n",
    "    while cond:\n",
    "        _lock.acquire(True)\n",
    "        Button_State = Button_cur_State\n",
    "        _lock.release()\n",
    "        if Button_State == Button_State.Alarm:\n",
    "            sock.send('sound_alarm'.encode())\n",
    "        elif Button_State == Button_State.Disconnect:\n",
    "            cond = False\n",
    "            sock.close()"
   ]
  },
  {
   "cell_type": "code",
   "execution_count": 13,
   "id": "c6205126",
   "metadata": {},
   "outputs": [],
   "source": [
    "import asyncio\n",
    "btn_cond = True\n",
    "\n",
    "async def get_btns(_loop):\n",
    "    global btn_cond\n",
    "    while btn_cond:\n",
    "        await asyncio.sleep(0.01)\n",
    "        btn = btns.read()\n",
    "        if btn == 0x01:\n",
    "            Button_cur_State = Button_State.Connect\n",
    "            print(\"Connect button pressed\")\n",
    "        elif btn == 0x02:\n",
    "            Button_cur_State = Button_State.Alarm\n",
    "            print(\"Alarm button pressed\")\n",
    "        elif btn == 0x04:\n",
    "            Button_cur_State = Button_State.Disconnect\n",
    "            print(\"Disconnect button pressed\")\n",
    "            btn_cond = False\n",
    "            _loop.stop()\n",
    "        else:\n",
    "            print(\"Invalid button pressed\")\n",
    "            \n",
    "#loop = asyncio.new_event_loop()\n",
    "#loop.create_task(flash_leds())\n",
    "#loop.create_task(get_btns(loop))\n",
    "#loop.run_forever()\n",
    "#loop.close()        "
   ]
  },
  {
   "cell_type": "code",
   "execution_count": 14,
   "id": "e84ee02d",
   "metadata": {},
   "outputs": [],
   "source": [
    "procs = [] # a future list of all our processes\n"
   ]
  },
  {
   "cell_type": "code",
   "execution_count": 15,
   "id": "e6c3576a",
   "metadata": {},
   "outputs": [],
   "source": [
    "import threading\n",
    "import os\n",
    "def main():\n",
    "    \n",
    "    lock_bp = multiprocessing.Lock()\n",
    "    #create a asyncio loop event \n",
    "    loop = asyncio.new_event_loop()\n",
    "    loop.create_task(get_btns(loop))\n",
    "    \n",
    "    # Launch process1 on CPU0\n",
    "    p1_start = time.time()\n",
    "\n",
    "    p1 = multiprocessing.Process(target=server, args=(lock_bp,)) \n",
    "    os.system(\"taskset -p -c {} {}\".format(0, p1.pid)) \n",
    "    p1.start() # start the process\n",
    "    procs.append(p1)\n",
    "\n",
    "    # Launch process2 on CPU1\n",
    "    p2_start = time.time()\n",
    "    p2 = multiprocessing.Process(target=client, args=(lock_bp,)) \n",
    "    os.system(\"taskset -p -c {} {}\".format(1, p2.pid))\n",
    "    p2.start() # start the process\n",
    "    procs.append(p2)\n",
    "    \n",
    "    p1Name = p1.name # get process1 name\n",
    "    p2Name = p2.name # get process2 name\n",
    "    \n",
    "    loop.run_forever()\n",
    "    loop.close()\n",
    "    # Here we wait for process1 to finish then wait for process2 to finish\n",
    "    p1.join() # wait for process1 to finish\n",
    "    print('Process 1 with name, {}, is finished'.format(p1Name))\n",
    "\n",
    "    p2.join() # wait for process2 to finish\n",
    "    print('Process 2 with name, {}, is finished'.format(p2Name))\n",
    "    "
   ]
  },
  {
   "cell_type": "code",
   "execution_count": 16,
   "id": "d11994ed",
   "metadata": {},
   "outputs": [
    {
     "name": "stdout",
     "output_type": "stream",
     "text": [
      "Got connection from ('127.0.0.1', 44928)\n"
     ]
    },
    {
     "name": "stderr",
     "output_type": "stream",
     "text": [
      "Process Process-1:\n",
      "Process Process-2:\n",
      "  File \"/usr/lib/python3.8/multiprocessing/process.py\", line 315, in _bootstrap\n",
      "    self.run()\n",
      "Traceback (most recent call last):\n",
      "Traceback (most recent call last):\n",
      "  File \"/usr/lib/python3.8/multiprocessing/process.py\", line 315, in _bootstrap\n",
      "    self.run()\n",
      "  File \"/usr/lib/python3.8/multiprocessing/process.py\", line 108, in run\n",
      "    self._target(*self._args, **self._kwargs)\n",
      "  File \"/usr/lib/python3.8/multiprocessing/process.py\", line 108, in run\n",
      "    self._target(*self._args, **self._kwargs)\n",
      "  File \"<ipython-input-12-30c87169fbc0>\", line 10, in client\n",
      "    _lock.release()\n",
      "Task exception was never retrieved\n",
      "future: <Task finished name='Task-1' coro=<get_btns() done, defined at <ipython-input-13-a16601feadc6>:4> exception=NameError(\"name 'btns' is not defined\")>\n",
      "Traceback (most recent call last):\n",
      "  File \"/usr/lib/python3.8/asyncio/tasks.py\", line 280, in __step\n",
      "    result = coro.send(None)\n",
      "  File \"<ipython-input-13-a16601feadc6>\", line 8, in get_btns\n",
      "    btn = btns.read()\n",
      "NameError: name 'btns' is not defined\n",
      "KeyboardInterrupt\n",
      "  File \"<ipython-input-11-28d2fd82c8b6>\", line 16, in server\n",
      "    msg = clientsocket.recv(1024).decode()\n",
      "KeyboardInterrupt\n"
     ]
    },
    {
     "ename": "KeyboardInterrupt",
     "evalue": "",
     "output_type": "error",
     "traceback": [
      "\u001b[0;31m---------------------------------------------------------------------------\u001b[0m",
      "\u001b[0;31mKeyboardInterrupt\u001b[0m                         Traceback (most recent call last)",
      "\u001b[0;32m<ipython-input-16-c7bc734e5e35>\u001b[0m in \u001b[0;36m<module>\u001b[0;34m\u001b[0m\n\u001b[1;32m      1\u001b[0m \u001b[0;32mif\u001b[0m \u001b[0m__name__\u001b[0m \u001b[0;34m==\u001b[0m \u001b[0;34m'__main__'\u001b[0m\u001b[0;34m:\u001b[0m\u001b[0;34m\u001b[0m\u001b[0;34m\u001b[0m\u001b[0m\n\u001b[0;32m----> 2\u001b[0;31m     \u001b[0mmain\u001b[0m\u001b[0;34m(\u001b[0m\u001b[0;34m)\u001b[0m\u001b[0;34m\u001b[0m\u001b[0;34m\u001b[0m\u001b[0m\n\u001b[0m",
      "\u001b[0;32m<ipython-input-15-b20dbb1fd894>\u001b[0m in \u001b[0;36mmain\u001b[0;34m()\u001b[0m\n\u001b[1;32m     26\u001b[0m     \u001b[0mp2Name\u001b[0m \u001b[0;34m=\u001b[0m \u001b[0mp2\u001b[0m\u001b[0;34m.\u001b[0m\u001b[0mname\u001b[0m \u001b[0;31m# get process2 name\u001b[0m\u001b[0;34m\u001b[0m\u001b[0;34m\u001b[0m\u001b[0m\n\u001b[1;32m     27\u001b[0m \u001b[0;34m\u001b[0m\u001b[0m\n\u001b[0;32m---> 28\u001b[0;31m     \u001b[0mloop\u001b[0m\u001b[0;34m.\u001b[0m\u001b[0mrun_forever\u001b[0m\u001b[0;34m(\u001b[0m\u001b[0;34m)\u001b[0m\u001b[0;34m\u001b[0m\u001b[0;34m\u001b[0m\u001b[0m\n\u001b[0m\u001b[1;32m     29\u001b[0m     \u001b[0mloop\u001b[0m\u001b[0;34m.\u001b[0m\u001b[0mclose\u001b[0m\u001b[0;34m(\u001b[0m\u001b[0;34m)\u001b[0m\u001b[0;34m\u001b[0m\u001b[0;34m\u001b[0m\u001b[0m\n\u001b[1;32m     30\u001b[0m     \u001b[0;31m# Here we wait for process1 to finish then wait for process2 to finish\u001b[0m\u001b[0;34m\u001b[0m\u001b[0;34m\u001b[0m\u001b[0;34m\u001b[0m\u001b[0m\n",
      "\u001b[0;32m/usr/local/share/pynq-venv/lib/python3.8/site-packages/nest_asyncio.py\u001b[0m in \u001b[0;36mrun_forever\u001b[0;34m(self)\u001b[0m\n\u001b[1;32m     51\u001b[0m         \u001b[0;32mwith\u001b[0m \u001b[0mmanage_run\u001b[0m\u001b[0;34m(\u001b[0m\u001b[0mself\u001b[0m\u001b[0;34m)\u001b[0m\u001b[0;34m,\u001b[0m \u001b[0mmanage_asyncgens\u001b[0m\u001b[0;34m(\u001b[0m\u001b[0mself\u001b[0m\u001b[0;34m)\u001b[0m\u001b[0;34m:\u001b[0m\u001b[0;34m\u001b[0m\u001b[0;34m\u001b[0m\u001b[0m\n\u001b[1;32m     52\u001b[0m             \u001b[0;32mwhile\u001b[0m \u001b[0;32mTrue\u001b[0m\u001b[0;34m:\u001b[0m\u001b[0;34m\u001b[0m\u001b[0;34m\u001b[0m\u001b[0m\n\u001b[0;32m---> 53\u001b[0;31m                 \u001b[0mself\u001b[0m\u001b[0;34m.\u001b[0m\u001b[0m_run_once\u001b[0m\u001b[0;34m(\u001b[0m\u001b[0;34m)\u001b[0m\u001b[0;34m\u001b[0m\u001b[0;34m\u001b[0m\u001b[0m\n\u001b[0m\u001b[1;32m     54\u001b[0m                 \u001b[0;32mif\u001b[0m \u001b[0mself\u001b[0m\u001b[0;34m.\u001b[0m\u001b[0m_stopping\u001b[0m\u001b[0;34m:\u001b[0m\u001b[0;34m\u001b[0m\u001b[0;34m\u001b[0m\u001b[0m\n\u001b[1;32m     55\u001b[0m                     \u001b[0;32mbreak\u001b[0m\u001b[0;34m\u001b[0m\u001b[0;34m\u001b[0m\u001b[0m\n",
      "\u001b[0;32m/usr/local/share/pynq-venv/lib/python3.8/site-packages/nest_asyncio.py\u001b[0m in \u001b[0;36m_run_once\u001b[0;34m(self)\u001b[0m\n\u001b[1;32m     85\u001b[0m             \u001b[0;32melse\u001b[0m \u001b[0mmin\u001b[0m\u001b[0;34m(\u001b[0m\u001b[0mmax\u001b[0m\u001b[0;34m(\u001b[0m\u001b[0mscheduled\u001b[0m\u001b[0;34m[\u001b[0m\u001b[0;36m0\u001b[0m\u001b[0;34m]\u001b[0m\u001b[0;34m.\u001b[0m\u001b[0m_when\u001b[0m \u001b[0;34m-\u001b[0m \u001b[0mnow\u001b[0m\u001b[0;34m,\u001b[0m \u001b[0;36m0\u001b[0m\u001b[0;34m)\u001b[0m\u001b[0;34m,\u001b[0m \u001b[0;36m86400\u001b[0m\u001b[0;34m)\u001b[0m \u001b[0;32mif\u001b[0m \u001b[0mscheduled\u001b[0m\u001b[0;34m\u001b[0m\u001b[0;34m\u001b[0m\u001b[0m\n\u001b[1;32m     86\u001b[0m             else None)\n\u001b[0;32m---> 87\u001b[0;31m         \u001b[0mevent_list\u001b[0m \u001b[0;34m=\u001b[0m \u001b[0mself\u001b[0m\u001b[0;34m.\u001b[0m\u001b[0m_selector\u001b[0m\u001b[0;34m.\u001b[0m\u001b[0mselect\u001b[0m\u001b[0;34m(\u001b[0m\u001b[0mtimeout\u001b[0m\u001b[0;34m)\u001b[0m\u001b[0;34m\u001b[0m\u001b[0;34m\u001b[0m\u001b[0m\n\u001b[0m\u001b[1;32m     88\u001b[0m         \u001b[0mself\u001b[0m\u001b[0;34m.\u001b[0m\u001b[0m_process_events\u001b[0m\u001b[0;34m(\u001b[0m\u001b[0mevent_list\u001b[0m\u001b[0;34m)\u001b[0m\u001b[0;34m\u001b[0m\u001b[0;34m\u001b[0m\u001b[0m\n\u001b[1;32m     89\u001b[0m \u001b[0;34m\u001b[0m\u001b[0m\n",
      "\u001b[0;32m/usr/lib/python3.8/selectors.py\u001b[0m in \u001b[0;36mselect\u001b[0;34m(self, timeout)\u001b[0m\n\u001b[1;32m    466\u001b[0m             \u001b[0mready\u001b[0m \u001b[0;34m=\u001b[0m \u001b[0;34m[\u001b[0m\u001b[0;34m]\u001b[0m\u001b[0;34m\u001b[0m\u001b[0;34m\u001b[0m\u001b[0m\n\u001b[1;32m    467\u001b[0m             \u001b[0;32mtry\u001b[0m\u001b[0;34m:\u001b[0m\u001b[0;34m\u001b[0m\u001b[0;34m\u001b[0m\u001b[0m\n\u001b[0;32m--> 468\u001b[0;31m                 \u001b[0mfd_event_list\u001b[0m \u001b[0;34m=\u001b[0m \u001b[0mself\u001b[0m\u001b[0;34m.\u001b[0m\u001b[0m_selector\u001b[0m\u001b[0;34m.\u001b[0m\u001b[0mpoll\u001b[0m\u001b[0;34m(\u001b[0m\u001b[0mtimeout\u001b[0m\u001b[0;34m,\u001b[0m \u001b[0mmax_ev\u001b[0m\u001b[0;34m)\u001b[0m\u001b[0;34m\u001b[0m\u001b[0;34m\u001b[0m\u001b[0m\n\u001b[0m\u001b[1;32m    469\u001b[0m             \u001b[0;32mexcept\u001b[0m \u001b[0mInterruptedError\u001b[0m\u001b[0;34m:\u001b[0m\u001b[0;34m\u001b[0m\u001b[0;34m\u001b[0m\u001b[0m\n\u001b[1;32m    470\u001b[0m                 \u001b[0;32mreturn\u001b[0m \u001b[0mready\u001b[0m\u001b[0;34m\u001b[0m\u001b[0;34m\u001b[0m\u001b[0m\n",
      "\u001b[0;31mKeyboardInterrupt\u001b[0m: "
     ]
    }
   ],
   "source": [
    "if __name__ == '__main__':\n",
    "    main()"
   ]
  },
  {
   "cell_type": "code",
   "execution_count": null,
   "id": "4bb868f4",
   "metadata": {},
   "outputs": [],
   "source": []
  }
 ],
 "metadata": {
  "kernelspec": {
   "display_name": "Python 3",
   "language": "python",
   "name": "python3"
  },
  "language_info": {
   "codemirror_mode": {
    "name": "ipython",
    "version": 3
   },
   "file_extension": ".py",
   "mimetype": "text/x-python",
   "name": "python",
   "nbconvert_exporter": "python",
   "pygments_lexer": "ipython3",
   "version": "3.8.2"
  }
 },
 "nbformat": 4,
 "nbformat_minor": 5
}
