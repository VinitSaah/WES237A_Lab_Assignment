{
 "cells": [
  {
   "cell_type": "markdown",
   "id": "f0582704",
   "metadata": {},
   "source": [
    "# Assignment 4.1: Tilt Alarm System"
   ]
  },
  {
   "cell_type": "markdown",
   "id": "49521221",
   "metadata": {},
   "source": [
    "## Part A4.1"
   ]
  },
  {
   "cell_type": "markdown",
   "id": "561e98e1",
   "metadata": {},
   "source": [
    "### Buzzer sensor module used: KY006 (Passive) or KY012- (Active)"
   ]
  },
  {
   "cell_type": "markdown",
   "id": "55ca0c89",
   "metadata": {},
   "source": [
    "#### Include placeholder"
   ]
  },
  {
   "cell_type": "code",
   "execution_count": 2,
   "id": "48172c27",
   "metadata": {},
   "outputs": [
    {
     "data": {
      "application/javascript": [
       "\n",
       "try {\n",
       "require(['notebook/js/codecell'], function(codecell) {\n",
       "  codecell.CodeCell.options_default.highlight_modes[\n",
       "      'magic_text/x-csrc'] = {'reg':[/^%%microblaze/]};\n",
       "  Jupyter.notebook.events.one('kernel_ready.Kernel', function(){\n",
       "      Jupyter.notebook.get_cells().map(function(cell){\n",
       "          if (cell.cell_type == 'code'){ cell.auto_highlight(); } }) ;\n",
       "  });\n",
       "});\n",
       "} catch (e) {};\n"
      ]
     },
     "metadata": {},
     "output_type": "display_data"
    },
    {
     "data": {
      "application/javascript": [
       "\n",
       "try {\n",
       "require(['notebook/js/codecell'], function(codecell) {\n",
       "  codecell.CodeCell.options_default.highlight_modes[\n",
       "      'magic_text/x-csrc'] = {'reg':[/^%%pybind11/]};\n",
       "  Jupyter.notebook.events.one('kernel_ready.Kernel', function(){\n",
       "      Jupyter.notebook.get_cells().map(function(cell){\n",
       "          if (cell.cell_type == 'code'){ cell.auto_highlight(); } }) ;\n",
       "  });\n",
       "});\n",
       "} catch (e) {};\n"
      ]
     },
     "metadata": {},
     "output_type": "display_data"
    }
   ],
   "source": [
    "import time\n",
    "from pynq.lib import Pmod_IO\n",
    "from pynq.overlays.base import BaseOverlay\n",
    "base = BaseOverlay(\"base.bit\")\n",
    "FAILURE = -1\n",
    "SUCCESS = 0"
   ]
  },
  {
   "cell_type": "code",
   "execution_count": 12,
   "id": "e2d46223",
   "metadata": {},
   "outputs": [],
   "source": [
    "#creat Pmod_IO object to be used for server. Wired to + of buzzer sensor to PMODB\n",
    "gpio_pin_1 = Pmod_IO(base.PMODB,1,'out')\n",
    "#create Pmod_IO object to be used for client. Wired to + of buzzer sensor to PMODA\n",
    "gpio_pin_2 = Pmod_IO(base.PMODA,1,'out')"
   ]
  },
  {
   "cell_type": "code",
   "execution_count": 5,
   "id": "80ac549d",
   "metadata": {},
   "outputs": [],
   "source": [
    "#store these pins in a dictionary to easily refrence based on server client\n",
    "pins = {\n",
    "    'server'   : gpio_pin_1, \n",
    "    'client'   : gpio_pin_2,\n",
    "} "
   ]
  },
  {
   "cell_type": "code",
   "execution_count": 8,
   "id": "e2f7c7e5",
   "metadata": {},
   "outputs": [],
   "source": [
    "# definition to turn buzzer off\n",
    "def turn_buzzer_off(index):\n",
    "    pins[index].write(0)"
   ]
  },
  {
   "cell_type": "code",
   "execution_count": 9,
   "id": "30529074",
   "metadata": {},
   "outputs": [],
   "source": [
    "# def function to test buzzer\n",
    "def turn_buzzer_on(index):\n",
    "    pins[index].write(1)"
   ]
  },
  {
   "cell_type": "code",
   "execution_count": 15,
   "id": "ca0bf70a",
   "metadata": {},
   "outputs": [],
   "source": [
    "# def function to turn buzzer on for particular frequency\n",
    "def turn_alarm_on(freq, index):\n",
    "    if freq < 0:\n",
    "        print(\"frequency should be > 0\")\n",
    "        return FAILURE\n",
    "    if index != 'server' or index !='client':\n",
    "        print(\"Invalid index passed\")\n",
    "        return FAILURE\n",
    "    cond = 0\n",
    "    while cond < 50:\n",
    "        turn_buzzer_off(index)\n",
    "        time.sleep((1/(2*freq)))\n",
    "        turn_buzzer_off(index)\n",
    "        time.sleep((1/(2*freq)))\n",
    "        cond +=1\n",
    "    return SUCCESS"
   ]
  },
  {
   "cell_type": "code",
   "execution_count": null,
   "id": "1c236e79",
   "metadata": {},
   "outputs": [],
   "source": [
    "freq = 1500 #Hz\n",
    "index = 'server'\n",
    "turn_alarm_on(freq, index)"
   ]
  }
 ],
 "metadata": {
  "kernelspec": {
   "display_name": "Python 3",
   "language": "python",
   "name": "python3"
  },
  "language_info": {
   "codemirror_mode": {
    "name": "ipython",
    "version": 3
   },
   "file_extension": ".py",
   "mimetype": "text/x-python",
   "name": "python",
   "nbconvert_exporter": "python",
   "pygments_lexer": "ipython3",
   "version": "3.8.2"
  }
 },
 "nbformat": 4,
 "nbformat_minor": 5
}
